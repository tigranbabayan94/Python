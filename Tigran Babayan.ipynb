{
 "cells": [
  {
   "cell_type": "code",
   "execution_count": 1,
   "metadata": {
    "collapsed": false
   },
   "outputs": [
    {
     "name": "stdout",
     "output_type": "stream",
     "text": [
      "Please, write numbers separated by commas5,6,7,8,9\n",
      "7.0\n"
     ]
    }
   ],
   "source": [
    "numbers=input (\"Please, write numbers separated by commas\")\n",
    "def avarage(numbers):\n",
    "    return float(sum(numbers))/len(numbers)\n",
    "print avarage(numbers) "
   ]
  },
  {
   "cell_type": "code",
   "execution_count": 2,
   "metadata": {
    "collapsed": false
   },
   "outputs": [
    {
     "name": "stdout",
     "output_type": "stream",
     "text": [
      "Please, write numbers separated by commas5,5,5,5,5\n",
      "Please, write numbers of occurrences7\n",
      "3.0\n"
     ]
    }
   ],
   "source": [
    "numbers=input (\"Please, write numbers separated by commas\")\n",
    "y= input(\"Please, write numbers of occurrences\")\n",
    "def avarage(numbers,y):\n",
    "    return float (sum(numbers[-y:])/y)\n",
    "print avarage(numbers,y)"
   ]
  },
  {
   "cell_type": "code",
   "execution_count": 3,
   "metadata": {
    "collapsed": true
   },
   "outputs": [],
   "source": [
    "import random"
   ]
  },
  {
   "cell_type": "code",
   "execution_count": 10,
   "metadata": {
    "collapsed": false
   },
   "outputs": [
    {
     "name": "stdout",
     "output_type": "stream",
     "text": [
      "win\n",
      "49\n"
     ]
    }
   ],
   "source": [
    "z=random.randint(1,50)\n",
    "def gamble(z):\n",
    "    if z<=25:\n",
    "        return \"loss\"\n",
    "    elif z==50:\n",
    "        return \"draw\"\n",
    "    else:\n",
    "        return \"win\"\n",
    "print gamble(z)\n",
    "print z"
   ]
  },
  {
   "cell_type": "code",
   "execution_count": 11,
   "metadata": {
    "collapsed": true
   },
   "outputs": [],
   "source": [
    "import pandas_datareader.data as web"
   ]
  },
  {
   "cell_type": "code",
   "execution_count": 12,
   "metadata": {
    "collapsed": false
   },
   "outputs": [
    {
     "name": "stdout",
     "output_type": "stream",
     "text": [
      "             Open   High    Low  Close    Volume\n",
      "Date                                            \n",
      "2010-01-04  68.72  69.26  68.19  69.15  27811317\n",
      "2010-01-05  69.19  69.45  68.80  69.42  30178588\n",
      "2010-01-06  69.45  70.60  69.34  70.02  35047453\n",
      "2010-01-07  69.90  70.06  69.42  69.80  27194133\n",
      "2010-01-08  69.69  69.75  69.22  69.52  24899483\n",
      "2010-01-11  69.94  70.52  69.65  70.30  30684918\n",
      "2010-01-12  69.72  69.99  69.52  69.95  31497632\n",
      "             Open   High    Low  Close     Volume\n",
      "Date                                             \n",
      "2010-01-04  30.49  30.64  30.34  30.57  123432050\n",
      "2010-01-05  30.66  30.80  30.46  30.63  150476004\n",
      "2010-01-06  30.63  30.75  30.11  30.14  138039594\n",
      "2010-01-07  30.25  30.29  29.86  30.08  119282324\n",
      "2010-01-08  30.04  30.29  29.87  30.28  111969081\n",
      "2010-01-11  30.40  30.43  29.78  30.02  115557365\n",
      "2010-01-12  29.88  29.97  29.49  29.67  148614774\n",
      "             Open   High    Low  Close   Volume\n",
      "Date                                           \n",
      "2010-01-04  29.52  30.18  29.50  30.02   988779\n",
      "2010-01-05  29.72  29.93  29.50  29.88   567725\n",
      "2010-01-06  29.88  29.95  29.66  29.85   468195\n",
      "2010-01-07  29.74  29.87  29.59  29.80   645265\n",
      "2010-01-08  30.04  30.47  29.93  30.41   574036\n",
      "2010-01-11  30.72  30.75  30.39  30.60   603165\n",
      "2010-01-12  31.47  31.70  31.45  31.57  1161930\n"
     ]
    }
   ],
   "source": [
    "my_list_of_stock=['XOM','AAPL','SNE']\n",
    "for z in my_list_of_stock:\n",
    "    stock=web.DataReader(z,\"google\")\n",
    "    print stock.head(7)"
   ]
  },
  {
   "cell_type": "code",
   "execution_count": null,
   "metadata": {
    "collapsed": true
   },
   "outputs": [],
   "source": [
    "import matplotlib.pyplot as plot\n",
    "my_list_of_stock=['XOM','AAPL','SNE']\n",
    "for z in my_list_of_stock:\n",
    "    stock=plt.plot(web.DataReader(x,\"google\")[\"Close\"])\n",
    "print plt.show()"
   ]
  },
  {
   "cell_type": "code",
   "execution_count": null,
   "metadata": {
    "collapsed": true
   },
   "outputs": [],
   "source": []
  }
 ],
 "metadata": {
  "kernelspec": {
   "display_name": "Python 2",
   "language": "python",
   "name": "python2"
  },
  "language_info": {
   "codemirror_mode": {
    "name": "ipython",
    "version": 2
   },
   "file_extension": ".py",
   "mimetype": "text/x-python",
   "name": "python",
   "nbconvert_exporter": "python",
   "pygments_lexer": "ipython2",
   "version": "2.7.13"
  }
 },
 "nbformat": 4,
 "nbformat_minor": 2
}
